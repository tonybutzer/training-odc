{
 "cells": [
  {
   "cell_type": "code",
   "execution_count": 1,
   "id": "cac39362",
   "metadata": {},
   "outputs": [],
   "source": [
    "import boto3\n",
    "my_session = boto3.session.Session()\n",
    "my_region = my_session.region_name"
   ]
  },
  {
   "cell_type": "code",
   "execution_count": 2,
   "id": "f5c3f190",
   "metadata": {},
   "outputs": [
    {
     "data": {
      "text/plain": [
       "'af-south-1'"
      ]
     },
     "execution_count": 2,
     "metadata": {},
     "output_type": "execute_result"
    }
   ],
   "source": [
    "my_region"
   ]
  },
  {
   "cell_type": "code",
   "execution_count": 3,
   "id": "ed1427c0",
   "metadata": {},
   "outputs": [
    {
     "name": "stdout",
     "output_type": "stream",
     "text": [
      "make: *** No targets specified and no makefile found.  Stop.\r\n"
     ]
    }
   ],
   "source": [
    "! make"
   ]
  },
  {
   "cell_type": "code",
   "execution_count": null,
   "id": "ab550625",
   "metadata": {},
   "outputs": [],
   "source": []
  }
 ],
 "metadata": {
  "kernelspec": {
   "display_name": "Python 3 (ipykernel)",
   "language": "python",
   "name": "python3"
  },
  "language_info": {
   "codemirror_mode": {
    "name": "ipython",
    "version": 3
   },
   "file_extension": ".py",
   "mimetype": "text/x-python",
   "name": "python",
   "nbconvert_exporter": "python",
   "pygments_lexer": "ipython3",
   "version": "3.8.10"
  }
 },
 "nbformat": 4,
 "nbformat_minor": 5
}
