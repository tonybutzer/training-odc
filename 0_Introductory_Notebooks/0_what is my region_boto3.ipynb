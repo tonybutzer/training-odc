{
 "cells": [
  {
   "cell_type": "markdown",
   "id": "35f5cfef",
   "metadata": {},
   "source": [
    "# Introduction\n",
    "\n",
    "This training is a reuse and in some ways an advertisement of the Digital Earth teams from Australia\n",
    "\n",
    "for coprehensive - self- paced training, signup at Digital Earth Africa run thru the \n",
    "accredited training program\n",
    "\n",
    "# Digital Earth Africa\n",
    "## Originators Web Site and Sandbox\n",
    "\n",
    "https://sandbox.digitalearth.africa\n",
    "\n",
    "\n",
    "'af-south-1'"
   ]
  },
  {
   "cell_type": "code",
   "execution_count": 1,
   "id": "cac39362",
   "metadata": {},
   "outputs": [],
   "source": [
    "import boto3\n",
    "my_session = boto3.session.Session()\n",
    "my_region = my_session.region_name"
   ]
  },
  {
   "cell_type": "code",
   "execution_count": 2,
   "id": "f5c3f190",
   "metadata": {},
   "outputs": [
    {
     "data": {
      "text/plain": [
       "'us-west-2'"
      ]
     },
     "execution_count": 2,
     "metadata": {},
     "output_type": "execute_result"
    }
   ],
   "source": [
    "my_region"
   ]
  },
  {
   "cell_type": "code",
   "execution_count": 3,
   "id": "ed1427c0",
   "metadata": {},
   "outputs": [
    {
     "name": "stdout",
     "output_type": "stream",
     "text": [
      "/bin/bash: make: command not found\r\n"
     ]
    }
   ],
   "source": [
    "! make"
   ]
  },
  {
   "cell_type": "code",
   "execution_count": null,
   "id": "ab550625",
   "metadata": {},
   "outputs": [],
   "source": []
  }
 ],
 "metadata": {
  "kernelspec": {
   "display_name": "Python 3",
   "language": "python",
   "name": "python3"
  },
  "language_info": {
   "codemirror_mode": {
    "name": "ipython",
    "version": 3
   },
   "file_extension": ".py",
   "mimetype": "text/x-python",
   "name": "python",
   "nbconvert_exporter": "python",
   "pygments_lexer": "ipython3",
   "version": "3.7.10"
  }
 },
 "nbformat": 4,
 "nbformat_minor": 5
}
